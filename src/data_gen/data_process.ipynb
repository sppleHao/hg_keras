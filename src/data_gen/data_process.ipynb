{
 "cells": [
  {
   "cell_type": "code",
   "execution_count": 1,
   "metadata": {},
   "outputs": [],
   "source": [
    "import numpy as np\n",
    "import scipy"
   ]
  },
  {
   "cell_type": "code",
   "execution_count": 2,
   "metadata": {},
   "outputs": [],
   "source": [
    "def get_transfrom(center,scale,res,rot=0):\n",
    "    \n",
    "    # Generate transfrom matrix\n",
    "    h = 200 *scale\n",
    "    t = np.zeros((3,3))\n",
    "    t[0, 0] = float(res[1]) / h\n",
    "    t[1, 1] = float(res[0]) / h\n",
    "    t[0, 2] = res[1] * (-float(center[0]) / h + .5)\n",
    "    t[1, 2] = res[0] * (-float(center[1]) / h + .5)\n",
    "    t[2, 2] = 1\n",
    "    \n",
    "    if not rot == 0:\n",
    "        rot = -rot  # To match direction of rotation from cropping\n",
    "        rot_mat = np.zeros((3, 3))\n",
    "        rot_rad = rot * np.pi / 180\n",
    "        sn, cs = np.sin(rot_rad), np.cos(rot_rad)\n",
    "        rot_mat[0, :2] = [cs, -sn]\n",
    "        rot_mat[1, :2] = [sn, cs]\n",
    "        rot_mat[2, 2] = 1\n",
    "        # Need to rotate around center\n",
    "        t_mat = np.eye(3)\n",
    "        t_mat[0, 2] = -res[1] / 2\n",
    "        t_mat[1, 2] = -res[0] / 2\n",
    "        t_inv = t_mat.copy()\n",
    "        t_inv[:2, 2] *= -1\n",
    "        t = np.dot(t_inv, np.dot(rot_mat, np.dot(t_mat, t)))\n",
    "        \n",
    "    return t"
   ]
  },
  {
   "cell_type": "code",
   "execution_count": 3,
   "metadata": {},
   "outputs": [],
   "source": [
    "def transform(pt,center,scale,res,invert=0,rot=0):\n",
    "    # Transform pixel location to different reference\n",
    "    t = get_transform(center, scale, res, rot=rot)\n",
    "    if invert:\n",
    "        t = np.linalg.inv(t)\n",
    "    new_pt = np.array([pt[0] - 1, pt[1] - 1, 1.]).T\n",
    "    new_pt = np.dot(t, new_pt)\n",
    "    return new_pt[:2].astype(int) + 1"
   ]
  },
  {
   "cell_type": "code",
   "execution_count": 4,
   "metadata": {},
   "outputs": [],
   "source": [
    "def crop(img,center,scale,res,rot=0):\n",
    "   # Preprocessing for efficient cropping\n",
    "    ht, wd = img.shape[0], img.shape[1]\n",
    "    sf = scale * 200.0 / res[0]\n",
    "    if sf < 2:\n",
    "        sf = 1\n",
    "    else:\n",
    "        new_size = int(np.math.floor(max(ht, wd) / sf))\n",
    "        new_ht = int(np.math.floor(ht / sf))\n",
    "        new_wd = int(np.math.floor(wd / sf))\n",
    "        img = scipy.misc.imresize(img, [new_ht, new_wd])\n",
    "        center = center * 1.0 / sf\n",
    "        scale = scale / sf\n",
    "\n",
    "    # Upper left point\n",
    "    ul = np.array(transform([0, 0], center, scale, res, invert=1))\n",
    "    # Bottom right point\n",
    "    br = np.array(transform(res, center, scale, res, invert=1))\n",
    "\n",
    "    # Padding so that when rotated proper amount of context is included\n",
    "    pad = int(np.linalg.norm(br - ul) / 2 - float(br[1] - ul[1]) / 2)\n",
    "    if not rot == 0:\n",
    "        ul -= pad\n",
    "        br += pad\n",
    "\n",
    "    new_shape = [br[1] - ul[1], br[0] - ul[0]]\n",
    "    if len(img.shape) > 2:\n",
    "        new_shape += [img.shape[2]]\n",
    "    new_img = np.zeros(new_shape)\n",
    "\n",
    "    # Range to fill new array\n",
    "    new_x = max(0, -ul[0]), min(br[0], len(img[0])) - ul[0]\n",
    "    new_y = max(0, -ul[1]), min(br[1], len(img)) - ul[1]\n",
    "    # Range to sample from original image\n",
    "    old_x = max(0, ul[0]), min(len(img[0]), br[0])\n",
    "    old_y = max(0, ul[1]), min(len(img), br[1])\n",
    "    new_img[new_y[0]:new_y[1], new_x[0]:new_x[1]] = img[old_y[0]:old_y[1], old_x[0]:old_x[1]]\n",
    "\n",
    "    if not rot == 0:\n",
    "        # Remove padding\n",
    "        new_img = scipy.misc.imrotate(new_img, rot)\n",
    "        new_img = new_img[pad:-pad, pad:-pad]\n",
    "\n",
    "    new_img = scipy.misc.imresize(new_img, res)\n",
    "    return new_img"
   ]
  },
  {
   "cell_type": "code",
   "execution_count": 5,
   "metadata": {},
   "outputs": [],
   "source": [
    "def normalize(imgdata, color_mean):\n",
    "    # 0-255 To 0-1\n",
    "    imgdata = imgdata / 255.0\n",
    "\n",
    "    for i in range(imgdata.shape[-1]):\n",
    "        imgdata[:, :, i] -= color_mean[i]\n",
    "\n",
    "    return imgdata"
   ]
  },
  {
   "cell_type": "code",
   "execution_count": 6,
   "metadata": {},
   "outputs": [],
   "source": [
    "def draw_labelmap(img, pt, sigma, type='Gaussian'):\n",
    "    # Draw a 2D gaussian\n",
    "    # Adopted from https://github.com/anewell/pose-hg-train/blob/master/src/pypose/draw.py\n",
    "\n",
    "    # Check that any part of the gaussian is in-bounds\n",
    "    ul = [int(pt[0] - 3 * sigma), int(pt[1] - 3 * sigma)]\n",
    "    br = [int(pt[0] + 3 * sigma + 1), int(pt[1] + 3 * sigma + 1)]\n",
    "    if (ul[0] >= img.shape[1] or ul[1] >= img.shape[0] or\n",
    "            br[0] < 0 or br[1] < 0):\n",
    "        # If not, just return the image as is\n",
    "        return img\n",
    "\n",
    "    # Generate gaussian\n",
    "    size = 6 * sigma + 1\n",
    "    x = np.arange(0, size, 1, float)\n",
    "    y = x[:, np.newaxis]\n",
    "    x0 = y0 = size // 2\n",
    "    # The gaussian is not normalized, we want the center value to equal 1\n",
    "    if type == 'Gaussian':\n",
    "        g = np.exp(- ((x - x0) ** 2 + (y - y0) ** 2) / (2 * sigma ** 2))\n",
    "    elif type == 'Cauchy':\n",
    "        g = sigma / (((x - x0) ** 2 + (y - y0) ** 2 + sigma ** 2) ** 1.5)\n",
    "\n",
    "    # Usable gaussian range\n",
    "    g_x = max(0, -ul[0]), min(br[0], img.shape[1]) - ul[0]\n",
    "    g_y = max(0, -ul[1]), min(br[1], img.shape[0]) - ul[1]\n",
    "    # Image range\n",
    "    img_x = max(0, ul[0]), min(br[0], img.shape[1])\n",
    "    img_y = max(0, ul[1]), min(br[1], img.shape[0])\n",
    "\n",
    "    img[img_y[0]:img_y[1], img_x[0]:img_x[1]] = g[g_y[0]:g_y[1], g_x[0]:g_x[1]]\n",
    "    return img"
   ]
  },
  {
   "cell_type": "code",
   "execution_count": 7,
   "metadata": {},
   "outputs": [],
   "source": [
    "def transform_kp(joints, center, scale, res, rot):\n",
    "    newjoints = np.copy(joints)\n",
    "    for i in range(joints.shape[0]):\n",
    "        if joints[i, 0] > 0 and joints[i, 1] > 0:\n",
    "            _x = transform(newjoints[i, 0:2] + 1, center=center, scale=scale, res=res, invert=0, rot=rot)\n",
    "            newjoints[i, 0:2] = _x\n",
    "    return newjoints"
   ]
  },
  {
   "cell_type": "code",
   "execution_count": 8,
   "metadata": {},
   "outputs": [],
   "source": [
    "def generate_gtmap(joints, sigma, outres):\n",
    "    npart = joints.shape[0]\n",
    "    gtmap = np.zeros(shape=(outres[0], outres[1], npart), dtype=float)\n",
    "    for i in range(npart):\n",
    "        visibility = joints[i, 2]\n",
    "        if visibility > 0:\n",
    "            gtmap[:, :, i] = draw_labelmap(gtmap[:, :, i], joints[i, :], sigma)\n",
    "    return gtmap"
   ]
  }
 ],
 "metadata": {
  "kernelspec": {
   "display_name": "Python 3",
   "language": "python",
   "name": "python3"
  },
  "language_info": {
   "codemirror_mode": {
    "name": "ipython",
    "version": 3
   },
   "file_extension": ".py",
   "mimetype": "text/x-python",
   "name": "python",
   "nbconvert_exporter": "python",
   "pygments_lexer": "ipython3",
   "version": "3.6.7"
  }
 },
 "nbformat": 4,
 "nbformat_minor": 2
}
