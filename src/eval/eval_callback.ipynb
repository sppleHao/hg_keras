{
 "cells": [
  {
   "cell_type": "code",
   "execution_count": 13,
   "metadata": {},
   "outputs": [],
   "source": [
    "import sys\n",
    "sys.path.insert(0, \"../data_gen/\")\n",
    "\n",
    "import keras\n",
    "import os\n",
    "import datetime\n",
    "from time import time\n",
    "from mpii_datagen import MPIIDataGen\n",
    "from eval_heatmap import cal_heatmap_acc"
   ]
  },
  {
   "cell_type": "code",
   "execution_count": 12,
   "metadata": {},
   "outputs": [],
   "source": [
    "class EvalCallBack(keras.callbacks.Callback):\n",
    "\n",
    "    def __init__(self, foldpath, inres, outres):\n",
    "        self.foldpath = foldpath\n",
    "        self.inres = inres\n",
    "        self.outres = outres\n",
    "        \n",
    "    def get_folder_path(self):\n",
    "        return self.foldpath\n",
    "    \n",
    "    def run_eval(self,epoch):\n",
    "        val_data = MPIIDataGen(jsonfile='../../data/mpii_annotations.json',imgpath='../../data/mpii/images',inres=self.inrese,outres=self.outres,is_train=False)\n",
    "        \n",
    "        total_success , total_fail = 0 ,0\n",
    "        threshold = 0.5\n",
    "        \n",
    "        count = 0\n",
    "        batch_size = 8\n",
    "        \n",
    "        for _img , _gthmap , _meta in val_data.generator(batch_size,8,sigma=2,is_shuffle=False,with_meta=True):\n",
    "            \n",
    "            count += batch_size\n",
    "            if count > val_data.get_dataset_size():\n",
    "                break\n",
    "                \n",
    "            out = self.model.predict(_img)\n",
    "            \n",
    "            suc,bad = cal_heatmap_acc(out[-1],_meta,threshold)\n",
    "            \n",
    "            total_success +=suc\n",
    "            total_fail += bad\n",
    "        \n",
    "        acc = total_success * 1.0 / (total_success+total_fail)\n",
    "        \n",
    "        print('Eval Accuracy ',acc,' @ Epoch ',epoch)\n",
    "        \n",
    "        with open(os.path.join(self.get_folder_path(),'val.txt'),'a+') as xfile:\n",
    "            xfile.write('Epoch '+ str(epoch) + ':' + str(acc) +'\\n')\n",
    "        \n",
    "    def on_epoch_end(self,epoch,logs=None):\n",
    "        #save model\n",
    "        \n",
    "        model_name = os.path.join(self.foldpath,'hg_epoch'+str(epoch)+'.h5')\n",
    "        self.model.save(model_name)\n",
    "        \n",
    "        print('Saving model to ',model_name)\n",
    "        \n",
    "        self.run_eval(epoch)"
   ]
  },
  {
   "cell_type": "code",
   "execution_count": null,
   "metadata": {},
   "outputs": [],
   "source": []
  }
 ],
 "metadata": {
  "kernelspec": {
   "display_name": "Python 3",
   "language": "python",
   "name": "python3"
  },
  "language_info": {
   "codemirror_mode": {
    "name": "ipython",
    "version": 3
   },
   "file_extension": ".py",
   "mimetype": "text/x-python",
   "name": "python",
   "nbconvert_exporter": "python",
   "pygments_lexer": "ipython3",
   "version": "3.6.7"
  }
 },
 "nbformat": 4,
 "nbformat_minor": 2
}
