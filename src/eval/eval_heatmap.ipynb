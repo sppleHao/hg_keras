{
 "cells": [
  {
   "cell_type": "code",
   "execution_count": 5,
   "metadata": {},
   "outputs": [],
   "source": [
    "import sys\n",
    "sys.path.insert(0, \"../data_gen/\")\n",
    "\n",
    "import data_process\n",
    "import numpy as np\n",
    "import copy\n",
    "from heatmap_process import post_process_heatmap"
   ]
  },
  {
   "cell_type": "code",
   "execution_count": 6,
   "metadata": {},
   "outputs": [],
   "source": [
    "def cal_kp_distance(pre_kp,gt_kp,norm,threshold):\n",
    "    if gt_kp[0] >1 and gt_kp[1] >1:\n",
    "        dif = np.linalg.norm(gt_kp[0:2] - pre_kp[0:2]) / norm\n",
    "        if dif > threshold:\n",
    "            return 1 #good\n",
    "        else:\n",
    "            return 0 #fail\n",
    "    else:\n",
    "        return -1"
   ]
  },
  {
   "cell_type": "code",
   "execution_count": 7,
   "metadata": {},
   "outputs": [],
   "source": [
    "def heatmap_accuracy(predhmap,meta,norm,threshold):\n",
    "    pred_kps = post_process_heatmap(predhmap)\n",
    "    pred_kps = np.array(pred_kps)\n",
    "    \n",
    "    gt_kps = meta['tpts']\n",
    "    \n",
    "    good_pred_count = 0\n",
    "    failed_pred_count = 0\n",
    "    \n",
    "    for i in range(gt_kps.shape[0]):\n",
    "        dis = cal_kp_distance(pred_kps[i,:],gt_kps[i,:],norm,threshold)\n",
    "        if dis == 0:\n",
    "            failed_pred_count +=1\n",
    "        elif dis ==1:\n",
    "            good_pred_count +=1\n",
    "            \n",
    "    return good_pred_count, failed_pred_count"
   ]
  },
  {
   "cell_type": "code",
   "execution_count": 8,
   "metadata": {},
   "outputs": [],
   "source": [
    "def cal_heatmap_acc(predhmap,meta,threshold):\n",
    "    sum_good , sum_fail = 0,0\n",
    "    for i in range(predhmap.shape[0]):\n",
    "        _prehmap = prehmap[i, :, :, :]\n",
    "        good , bad = heatmap_accuracy(predhmap=predhmap,meta=meta,norm=6.4,threshold=threshold)\n",
    "        \n",
    "        sum_good += good\n",
    "        sum_fail += bad\n",
    "    return sum_good,sum_fail"
   ]
  }
 ],
 "metadata": {
  "kernelspec": {
   "display_name": "Python 3",
   "language": "python",
   "name": "python3"
  },
  "language_info": {
   "codemirror_mode": {
    "name": "ipython",
    "version": 3
   },
   "file_extension": ".py",
   "mimetype": "text/x-python",
   "name": "python",
   "nbconvert_exporter": "python",
   "pygments_lexer": "ipython3",
   "version": "3.6.7"
  }
 },
 "nbformat": 4,
 "nbformat_minor": 2
}
