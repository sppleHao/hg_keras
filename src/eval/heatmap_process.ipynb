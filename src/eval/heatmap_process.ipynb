{
 "cells": [
  {
   "cell_type": "code",
   "execution_count": 1,
   "metadata": {},
   "outputs": [],
   "source": [
    "from scipy.ndimage import gaussian_filter, maximum_filter\n",
    "import numpy as np"
   ]
  },
  {
   "cell_type": "code",
   "execution_count": 4,
   "metadata": {},
   "outputs": [],
   "source": [
    "def post_process_heatmap(heatmap,kp_confidence=0.2):\n",
    "    kp_list = list()\n",
    "    for i in range(heatmap.shape[-1]):\n",
    "        # ignore last channel, background channel\n",
    "        _map = heatmap[:,:,i]\n",
    "        _map = gaussian_filter(_map,sigma=0.5)\n",
    "        _nmsPeaks = non_max_supression(_map)\n",
    "        \n",
    "        y,x = np.where(_nmsPeaks = _nmsPeaks.max())\n",
    "        \n",
    "        if len(x)>0 and len(y)>0:\n",
    "            kp_list.append((int(x[0]), int(y[0]), _nmsPeaks[y[0], x[0]]))\n",
    "        else:\n",
    "            kp_list.append((0,0,0))\n",
    "    return kp_list"
   ]
  },
  {
   "cell_type": "code",
   "execution_count": 3,
   "metadata": {},
   "outputs": [],
   "source": [
    "def non_max_supression(plain,window_size=3,threshold=1e-6):\n",
    "    under_th_indicis = plain <threshold\n",
    "    plain[under_th_indicis] = 0\n",
    "    return plain * (plain == maximum_filter(plain,footprint=np.ones(window_size,window_size)))"
   ]
  }
 ],
 "metadata": {
  "kernelspec": {
   "display_name": "Python 3",
   "language": "python",
   "name": "python3"
  },
  "language_info": {
   "codemirror_mode": {
    "name": "ipython",
    "version": 3
   },
   "file_extension": ".py",
   "mimetype": "text/x-python",
   "name": "python",
   "nbconvert_exporter": "python",
   "pygments_lexer": "ipython3",
   "version": "3.6.7"
  }
 },
 "nbformat": 4,
 "nbformat_minor": 2
}
