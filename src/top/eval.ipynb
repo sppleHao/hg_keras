{
 "cells": [
  {
   "cell_type": "code",
   "execution_count": null,
   "metadata": {},
   "outputs": [
    {
     "name": "stdout",
     "output_type": "stream",
     "text": [
      "val data size 2958\n"
     ]
    }
   ],
   "source": [
    "# %load eval.py\n",
    "import sys\n",
    "\n",
    "sys.path.insert(0, \"../data_gen//\")\n",
    "sys.path.insert(0, \"../layer/\")\n",
    "sys.path.insert(0, \"../eval/\")\n",
    "\n",
    "import os\n",
    "import numpy as np\n",
    "import scipy.misc\n",
    "from mpii_datagen import MPIIDataGen\n",
    "from eval_heatmap import get_predicted_kp_from_htmap\n",
    "from hourglass import HourglassNet\n",
    "import argparse\n",
    "from pckh import run_pckh\n",
    "\n",
    "\n",
    "def get_final_pred_kps(valkps, preheatmap, metainfo, outres):\n",
    "    for i in range(preheatmap.shape[0]):\n",
    "        prehmap = preheatmap[i, :, :, :]\n",
    "        meta = metainfo[i]\n",
    "        sample_index = meta['sample_index']\n",
    "        kps = get_predicted_kp_from_htmap(prehmap, meta, outres)\n",
    "        valkps[sample_index, :, :] = kps[:, 0:2]  # ignore the visibility\n",
    "\n",
    "\n",
    "def main_eval(model_path, num_stack, num_class, matfile, tiny):\n",
    "    inres = (192, 192) if tiny else (256, 256)\n",
    "    outres = (48, 48) if tiny else (64, 64)\n",
    "    num_channles = 128 if tiny else 256\n",
    "\n",
    "    xnet = HourglassNet(num_classes=num_class, num_stacks=num_stack, num_channels=num_channles, inres=inres,\n",
    "                        outres=outres)\n",
    "\n",
    "    xnet.load_model(model_path)\n",
    "\n",
    "    valdata = MPIIDataGen(\"../../data/mpii/mpii_annotations.json\", \"../../data/mpii/images\",\n",
    "                          inres=inres, outres=outres, is_train=False)\n",
    "\n",
    "    print( 'val data size', valdata.get_dataset_size())\n",
    "\n",
    "    valkps = np.zeros(shape=(valdata.get_dataset_size(), 16, 2), dtype=np.float)\n",
    "\n",
    "    count = 0\n",
    "    batch_size = 8\n",
    "    for _img, _gthmap, _meta in valdata.generator(batch_size, num_stack, sigma=1, is_shuffle=False, with_meta=True):\n",
    "\n",
    "        count += batch_size\n",
    "\n",
    "        if count > valdata.get_dataset_size():\n",
    "            break\n",
    "\n",
    "        out = xnet.model.predict(_img)\n",
    "\n",
    "        get_final_pred_kps(valkps, out[-1], _meta, outres)\n",
    "\n",
    "    scipy.io.savemat(matfile, mdict={'preds': valkps})\n",
    "\n",
    "    run_pckh(model_path, matfile)   \n",
    "\n",
    "os.environ[\"CUDA_DEVICE_ORDER\"] = \"PCI_BUS_ID\"\n",
    "os.environ[\"CUDA_VISIBLE_DEVICES\"] = str(0)    \n",
    "    \n",
    "model_path = '../../trained_models/hg_epoch98.h5'\n",
    "    \n",
    "mat_file = '../../train_models/preds.mat'\n",
    "    \n",
    "num_stack = 2\n",
    "    \n",
    "tiny = False\n",
    "\n",
    "main_eval(model_path=model_path, matfile=mat_file,num_stack=num_stack, num_class=16, tiny=tiny)\n"
   ]
  }
 ],
 "metadata": {
  "kernelspec": {
   "display_name": "Python 3",
   "language": "python",
   "name": "python3"
  },
  "language_info": {
   "codemirror_mode": {
    "name": "ipython",
    "version": 3
   },
   "file_extension": ".py",
   "mimetype": "text/x-python",
   "name": "python",
   "nbconvert_exporter": "python",
   "pygments_lexer": "ipython3",
   "version": "3.6.7"
  }
 },
 "nbformat": 4,
 "nbformat_minor": 2
}
